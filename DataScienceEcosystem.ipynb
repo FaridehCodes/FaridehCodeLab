{
 "cells": [
  {
   "cell_type": "markdown",
   "id": "b4059129-e4b9-4508-973d-7c18c6b04e18",
   "metadata": {},
   "source": [
    "# Data Science Tools and Ecosystem"
   ]
  },
  {
   "cell_type": "markdown",
   "id": "c3f628eb-b181-48db-8aa3-2e475a9cb96c",
   "metadata": {},
   "source": [
    "## In this notebook, Data Science Tools and Ecosystem are summarized."
   ]
  },
  {
   "cell_type": "markdown",
   "id": "7e367f9a-1be2-4af7-a73b-a4180b38dfbf",
   "metadata": {},
   "source": [
    "### **Objectives**"
   ]
  },
  {
   "cell_type": "markdown",
   "id": "dab16239-2a21-497a-bd4f-228c430f57b0",
   "metadata": {},
   "source": [
    "- Popular languages for Data Science\n",
    "- Commonly used libraries by Data Scientists\n",
    "- Examples of evaluating arithmetic expressions\n",
    "- Conversion of units (e.g., minutes to hours)"
   ]
  },
  {
   "cell_type": "markdown",
   "id": "068f1f9c-6bab-4da5-886e-7d614877cf81",
   "metadata": {},
   "source": [
    "### Some of the popular languages that Data Scientists use are:"
   ]
  },
  {
   "cell_type": "markdown",
   "id": "5101f0c0-2ba9-48e2-a878-31fe71b94fe5",
   "metadata": {},
   "source": [
    "1. Python\n",
    "2. R\n",
    "3. SQL\n",
    "4. Java\n",
    "5. Julia\n",
    "6. Scala"
   ]
  },
  {
   "cell_type": "markdown",
   "id": "8dc5b51f-e91b-4be7-b4d2-e25cdd0efed2",
   "metadata": {},
   "source": [
    "### Some of the commonly used libraries used by Data Scientists include:"
   ]
  },
  {
   "cell_type": "markdown",
   "id": "58c400ec-dd21-4340-90d6-de972c4b7755",
   "metadata": {},
   "source": [
    "1. Pandas\n",
    "2. NumPy\n",
    "3. Matplotlib\n",
    "4. seaborn\n",
    "5. ggplot\n",
    "6. scikit-learn"
   ]
  },
  {
   "cell_type": "markdown",
   "id": "d0bf9247-8cd9-4902-9fa6-ca038cb9c502",
   "metadata": {},
   "source": [
    "|Data Science Tools|\n",
    "|-----------------|\n",
    "|Jupyter Notebook|\n",
    "|RStudio|\n",
    "|VS Code|"
   ]
  },
  {
   "cell_type": "markdown",
   "id": "9a8d1de9-ce99-44d2-b9d1-82272ec25b78",
   "metadata": {},
   "source": [
    "### Below are a few examples of evaluating arithmetic expressions in Python."
   ]
  },
  {
   "cell_type": "code",
   "execution_count": 6,
   "id": "17211b12-4e7f-4358-9ee7-ac59b1aacc9f",
   "metadata": {},
   "outputs": [
    {
     "name": "stdout",
     "output_type": "stream",
     "text": [
      "7\n"
     ]
    }
   ],
   "source": [
    "# Addition\n",
    "result = 4 + 3\n",
    "print(result)"
   ]
  },
  {
   "cell_type": "code",
   "execution_count": 7,
   "id": "56b1bab3-4e4e-4779-9d61-8a269453a3a7",
   "metadata": {},
   "outputs": [
    {
     "name": "stdout",
     "output_type": "stream",
     "text": [
      "8\n"
     ]
    }
   ],
   "source": [
    "# Power\n",
    "result = 2 ** 3\n",
    "print(result)"
   ]
  },
  {
   "cell_type": "code",
   "execution_count": 8,
   "id": "9b14dc41-ea0e-4d98-bfd2-6ab0a18dfe6d",
   "metadata": {},
   "outputs": [
    {
     "name": "stdout",
     "output_type": "stream",
     "text": [
      "6\n"
     ]
    }
   ],
   "source": [
    "# Subtraction\n",
    "result = 10 - 4\n",
    "print(result)"
   ]
  },
  {
   "cell_type": "code",
   "execution_count": 9,
   "id": "8dd6005c-7c8b-4dc9-9911-09581080c52f",
   "metadata": {},
   "outputs": [
    {
     "name": "stdout",
     "output_type": "stream",
     "text": [
      "4.0\n"
     ]
    }
   ],
   "source": [
    "# Division\n",
    "result = 8 / 2\n",
    "print(result)"
   ]
  },
  {
   "cell_type": "code",
   "execution_count": 11,
   "id": "043c33e1-5a9e-4147-97dd-14d96f4c289a",
   "metadata": {},
   "outputs": [
    {
     "name": "stdout",
     "output_type": "stream",
     "text": [
      "17\n"
     ]
    }
   ],
   "source": [
    "# This a simple arithmetic expression to mutiply then add integers.\n",
    "result=(3*4)+5\n",
    "print(result)"
   ]
  },
  {
   "cell_type": "code",
   "execution_count": 12,
   "id": "cce638cf-484c-45d6-bfd5-ec3b19066849",
   "metadata": {},
   "outputs": [
    {
     "name": "stdout",
     "output_type": "stream",
     "text": [
      "3.3333333333333335\n"
     ]
    }
   ],
   "source": [
    "# This will convert 200 minutes to hours by diving by 60.\n",
    "hours= 200/60\n",
    "print(hours)"
   ]
  },
  {
   "cell_type": "markdown",
   "id": "f7d20f74-df78-4b63-9364-47c57003facc",
   "metadata": {},
   "source": [
    "## Author \n",
    "Farideh"
   ]
  },
  {
   "cell_type": "code",
   "execution_count": null,
   "id": "9940e711-b6a3-428c-a970-1b5531bc0545",
   "metadata": {},
   "outputs": [],
   "source": []
  }
 ],
 "metadata": {
  "kernelspec": {
   "display_name": "Python 3 (ipykernel)",
   "language": "python",
   "name": "python3"
  },
  "language_info": {
   "codemirror_mode": {
    "name": "ipython",
    "version": 3
   },
   "file_extension": ".py",
   "mimetype": "text/x-python",
   "name": "python",
   "nbconvert_exporter": "python",
   "pygments_lexer": "ipython3",
   "version": "3.12.9"
  }
 },
 "nbformat": 4,
 "nbformat_minor": 5
}
